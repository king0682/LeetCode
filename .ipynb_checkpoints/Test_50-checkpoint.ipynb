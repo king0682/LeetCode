{
 "cells": [
  {
   "cell_type": "markdown",
   "metadata": {},
   "source": [
    "### Day-模板\n",
    ">今天的主题是字符串，题目名为验证回文串  \n",
    ">题目戳链接https://leetcode-cn.com/problems/valid-palindrome/\n",
    "\n",
    "#### 解题思路\n",
    "\n",
    "#### 最佳方法的思路讲解\n",
    "\n",
    "#### 时间复杂度\n",
    "\n",
    "#### 空间复杂度\n",
    "\n",
    "#### 今日反馈\n",
    "\n",
    "#### 我的答案"
   ]
  },
  {
   "cell_type": "code",
   "execution_count": null,
   "metadata": {},
   "outputs": [],
   "source": [
    "# 我的答案："
   ]
  },
  {
   "cell_type": "markdown",
   "metadata": {},
   "source": [
    "优秀答案：\n",
    "\n",
    "* 收获笔记："
   ]
  },
  {
   "cell_type": "code",
   "execution_count": null,
   "metadata": {},
   "outputs": [],
   "source": []
  },
  {
   "cell_type": "markdown",
   "metadata": {},
   "source": [
    "改进方案：\n",
    "\n",
    "* 改正之处："
   ]
  },
  {
   "cell_type": "code",
   "execution_count": null,
   "metadata": {},
   "outputs": [],
   "source": []
  },
  {
   "cell_type": "code",
   "execution_count": null,
   "metadata": {},
   "outputs": [],
   "source": []
  },
  {
   "cell_type": "code",
   "execution_count": null,
   "metadata": {},
   "outputs": [],
   "source": [
    "# 收藏链接\n",
    "# https://www.cnblogs.com/taceywong/p/8045127.html"
   ]
  },
  {
   "cell_type": "markdown",
   "metadata": {},
   "source": [
    "### Day-01\n",
    ">今天的主题是字符串，题目名为验证回文串  \n",
    ">题目戳链接https://leetcode-cn.com/problems/valid-palindrome/"
   ]
  },
  {
   "cell_type": "code",
   "execution_count": null,
   "metadata": {},
   "outputs": [],
   "source": [
    "# 我的答案："
   ]
  },
  {
   "cell_type": "markdown",
   "metadata": {},
   "source": [
    "优秀答案：\n",
    "\n",
    "* 收获笔记："
   ]
  },
  {
   "cell_type": "code",
   "execution_count": null,
   "metadata": {},
   "outputs": [],
   "source": []
  },
  {
   "cell_type": "markdown",
   "metadata": {},
   "source": [
    "改进方案：\n",
    "\n",
    "* 改正之处："
   ]
  },
  {
   "cell_type": "code",
   "execution_count": null,
   "metadata": {},
   "outputs": [],
   "source": []
  },
  {
   "cell_type": "markdown",
   "metadata": {},
   "source": [
    "### Day-02\n",
    ">今天的主题是字符串，题目名为亲密字符串  \n",
    ">题目戳链接https://leetcode-cn.com/problems/buddy-strings/\n",
    "\n",
    "#### 解题思路\n",
    "直接按照题目要求编写代码即可\n",
    "\n",
    "#### 最佳方法的思路讲解\n",
    "* AB长度不等，返回false\n",
    "    * AB字符集不等，返回false（使用set筛选）\n",
    "    * 如果AB相等，只可能出现两种情况\n",
    "        * 不存在重复字符：化成ascii相减后，如果不是0的有两个值，且互为相反数，True；否则False\n",
    "        * 存在重复字符：两个a，三个a。返回True；否砸False\n",
    "\n",
    "#### 时间复杂度\n",
    "\n",
    "#### 空间复杂度\n",
    "\n",
    "#### 今日反馈：\n",
    "* 成绩824 ms，内存消耗：15 MB\n",
    "* 不要就着题库而编写规则，需要抓住题目中隐藏的规律，抓住本质（究竟什么在变，什么不变：AB字符串均为aa和abab可以用字符串中出现多个相同字符判断，但是如果出现了abcaaaa...和cbaaaaa...就不行，还是没有抓住本质）\n",
    "* 程序中不要出现造轮子的片段，实现了现有能调包的函数，这样会暴露你使用相关函数的积累经验少\n",
    "* 如果有循环判断中，某条相似规则没有拦截住，请升级该判断条件\n",
    "* 如果能用一个简单的条件去约束筛选，就不用大耗时的方法（set字符集判断是否去重后的字符集有不一样）\n",
    "* 要理清逻辑，抓住先后顺序的入口，抓住特征（1.先筛长度是否相等，2.再筛set后两者是否相等，相等了之后再向下分化节点树）\n",
    "* 自己写的算法太细了，没有抓住泛化性的内容。\n",
    "* 而且不应该上来就for循环把每个字符的ascii都算出来，要起码不用for循环遍历都排除之后再用for\n",
    "* 注意筛选条件是不是放错了，本应该交给最后一轮ascii相减对比的，但是放在了是否有重复元素中去做判断了。\n",
    "\n",
    "#### 我的答案"
   ]
  },
  {
   "cell_type": "code",
   "execution_count": null,
   "metadata": {},
   "outputs": [],
   "source": [
    "class Solution:\n",
    "    def buddyStrings(self, A: str, B: str) -> bool:\n",
    "        \n",
    "        # 1.找出两个不同的值\n",
    "        list_a, list_b, list_tmp = [], [], []\n",
    "        for i in A:\n",
    "            list_a.append(ord(i))\n",
    "        for i in B:\n",
    "            list_b.append(ord(i))    \n",
    "        list_sub = list(map(lambda x:x[0]-x[1], zip(list_a, list_b)))\n",
    "        for i in list_sub:\n",
    "            if i!=0:\n",
    "                list_tmp.append(i)\n",
    "        num_list = list(map(lambda x:A.count(x), A))\n",
    "        \n",
    "        # 2.确定是否可以反转\n",
    "        if len(list_a)==2 and ''.join(reversed(A))==B:\n",
    "            print(\"a\")\n",
    "            return True\n",
    "        elif len(list_tmp)==2 and list_tmp[-1]==-list_tmp[0]:\n",
    "            print(\"b\")\n",
    "            return True\n",
    "        elif len(list_tmp)>2 or len(list_tmp)==2 and list_tmp[-1]==list_tmp[0]:\n",
    "            print(\"e\")\n",
    "            return False\n",
    "        elif True in list(map(lambda x:x>1, num_list)):\n",
    "            print(\"d\")\n",
    "            return True\n",
    "        else:\n",
    "            print(\"c\")\n",
    "            return False"
   ]
  },
  {
   "cell_type": "markdown",
   "metadata": {},
   "source": [
    "优秀答案：\n",
    "\n",
    "* 收获笔记："
   ]
  },
  {
   "cell_type": "code",
   "execution_count": null,
   "metadata": {},
   "outputs": [],
   "source": []
  },
  {
   "cell_type": "markdown",
   "metadata": {},
   "source": [
    "改进方案：\n",
    "\n",
    "* 效果：352ms，13.9MB内存\n",
    "\n",
    "* 改正之处：\n",
    "    * 增加判断条件，能不for遍历就不用\n",
    "    * 调整判断先后顺序，将判断放在前面，循环放在后面"
   ]
  },
  {
   "cell_type": "code",
   "execution_count": 2,
   "metadata": {},
   "outputs": [],
   "source": [
    "class Solution:\n",
    "    def buddyStrings(self, A: str, B: str) -> bool:\n",
    "        if len(A) != len(B):\n",
    "            print(\"a\")\n",
    "            return False\n",
    "        elif set(A) != set(B):\n",
    "            print(\"b\")\n",
    "            return False\n",
    "        elif A == B:\n",
    "            if [item for item in A if A.count(item)>1]:\n",
    "                print(\"c\")\n",
    "                return True\n",
    "            else:\n",
    "                return False\n",
    "        else:\n",
    "            list_a = list(map(lambda x:ord(x), A))\n",
    "            list_b = list(map(lambda x:ord(x), B))\n",
    "            list_sub = list(map(lambda x:x[0]-x[1], zip(list_a, list_b)))\n",
    "            list_tmp = [x for x in list_sub if x!=0]\n",
    "#             print(list_tmp)\n",
    "#             list_tmp = list(map(lambda x:x if x!=0, list_sub))\n",
    "            if len(list_tmp) != 2:\n",
    "                print(\"d\")\n",
    "                return False\n",
    "            elif list_tmp[0] == -list_tmp[1]:\n",
    "                print(\"e\")\n",
    "                return True\n",
    "            else:\n",
    "                print(\"f\")\n",
    "                return False"
   ]
  },
  {
   "cell_type": "code",
   "execution_count": 3,
   "metadata": {},
   "outputs": [
    {
     "name": "stdout",
     "output_type": "stream",
     "text": [
      "c\n"
     ]
    },
    {
     "data": {
      "text/plain": [
       "True"
      ]
     },
     "execution_count": 3,
     "metadata": {},
     "output_type": "execute_result"
    }
   ],
   "source": [
    "string = Solution()\n",
    "string.buddyStrings(\"abab\",\"abab\")"
   ]
  },
  {
   "cell_type": "code",
   "execution_count": null,
   "metadata": {},
   "outputs": [],
   "source": []
  },
  {
   "cell_type": "markdown",
   "metadata": {},
   "source": [
    "### Day-3\n",
    ">今天的主题是字符串，题目名为反转字符串中的单词  \n",
    ">题目戳链接https://leetcode-cn.com/problems/reverse-words-in-a-string-iii/\n",
    "\n",
    "#### 解题思路\n",
    "\n",
    "#### 最佳方法的思路讲解\n",
    "\n",
    "#### 时间复杂度\n",
    "\n",
    "#### 空间复杂度\n",
    "\n",
    "#### 今日反馈\n",
    "\n",
    "#### 我的答案"
   ]
  },
  {
   "cell_type": "code",
   "execution_count": 6,
   "metadata": {},
   "outputs": [],
   "source": [
    "class Solution:\n",
    "    def reverseWords(self, s: str) -> str:\n",
    "        tmp_list = s.split(\" \")\n",
    "        sorted_list = [i[::-1] for i in tmp_list]\n",
    "        return \" \".join(sorted_list)"
   ]
  },
  {
   "cell_type": "code",
   "execution_count": 7,
   "metadata": {},
   "outputs": [
    {
     "data": {
      "text/plain": [
       "\"s'teL ekat edoCteeL tsetnoc\""
      ]
     },
     "execution_count": 7,
     "metadata": {},
     "output_type": "execute_result"
    }
   ],
   "source": [
    "tmp = Solution()\n",
    "tmp.reverseWords(\"Let's take LeetCode contest\")"
   ]
  },
  {
   "cell_type": "markdown",
   "metadata": {},
   "source": [
    "优秀答案：\n",
    "\n",
    "* 收获笔记："
   ]
  },
  {
   "cell_type": "code",
   "execution_count": null,
   "metadata": {},
   "outputs": [],
   "source": []
  },
  {
   "cell_type": "markdown",
   "metadata": {},
   "source": [
    "改进方案：\n",
    "\n",
    "* 改正之处："
   ]
  },
  {
   "cell_type": "code",
   "execution_count": null,
   "metadata": {},
   "outputs": [],
   "source": []
  }
 ],
 "metadata": {
  "kernelspec": {
   "display_name": "Python 3",
   "language": "python",
   "name": "python3"
  },
  "language_info": {
   "codemirror_mode": {
    "name": "ipython",
    "version": 3
   },
   "file_extension": ".py",
   "mimetype": "text/x-python",
   "name": "python",
   "nbconvert_exporter": "python",
   "pygments_lexer": "ipython3",
   "version": "3.6.4"
  },
  "toc": {
   "base_numbering": 1,
   "nav_menu": {},
   "number_sections": true,
   "sideBar": true,
   "skip_h1_title": false,
   "title_cell": "Table of Contents",
   "title_sidebar": "Contents",
   "toc_cell": false,
   "toc_position": {
    "height": "calc(100% - 180px)",
    "left": "10px",
    "top": "150px",
    "width": "141px"
   },
   "toc_section_display": true,
   "toc_window_display": false
  }
 },
 "nbformat": 4,
 "nbformat_minor": 2
}
