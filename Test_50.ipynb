{
 "cells": [
  {
   "cell_type": "markdown",
   "metadata": {},
   "source": [
    "### Day-模板\n",
    ">今天的主题是字符串，题目名为验证回文串  \n",
    ">题目戳链接https://leetcode-cn.com/problems/valid-palindrome/"
   ]
  },
  {
   "cell_type": "code",
   "execution_count": null,
   "metadata": {},
   "outputs": [],
   "source": [
    "# 我的答案："
   ]
  },
  {
   "cell_type": "markdown",
   "metadata": {},
   "source": [
    "优秀答案：\n",
    "\n",
    "* 收获笔记："
   ]
  },
  {
   "cell_type": "code",
   "execution_count": null,
   "metadata": {},
   "outputs": [],
   "source": []
  },
  {
   "cell_type": "markdown",
   "metadata": {},
   "source": [
    "改进方案：\n",
    "\n",
    "* 改正之处："
   ]
  },
  {
   "cell_type": "code",
   "execution_count": null,
   "metadata": {},
   "outputs": [],
   "source": []
  },
  {
   "cell_type": "markdown",
   "metadata": {},
   "source": [
    "### Day-01\n",
    ">今天的主题是字符串，题目名为验证回文串  \n",
    ">题目戳链接https://leetcode-cn.com/problems/valid-palindrome/"
   ]
  },
  {
   "cell_type": "code",
   "execution_count": null,
   "metadata": {},
   "outputs": [],
   "source": [
    "# 我的答案："
   ]
  },
  {
   "cell_type": "markdown",
   "metadata": {},
   "source": [
    "优秀答案：\n",
    "\n",
    "* 收获笔记："
   ]
  },
  {
   "cell_type": "code",
   "execution_count": null,
   "metadata": {},
   "outputs": [],
   "source": []
  },
  {
   "cell_type": "markdown",
   "metadata": {},
   "source": [
    "改进方案：\n",
    "\n",
    "* 改正之处："
   ]
  },
  {
   "cell_type": "code",
   "execution_count": null,
   "metadata": {},
   "outputs": [],
   "source": []
  },
  {
   "cell_type": "markdown",
   "metadata": {},
   "source": [
    "### Day-02\n",
    ">今天的主题是字符串，题目名为亲密字符串  \n",
    ">题目戳链接https://leetcode-cn.com/problems/buddy-strings/\n",
    "\n",
    "今日反馈：\n",
    "* 成绩824 ms，内存消耗：15 MB\n",
    "* 不要就着题库而编写规则，需要抓住题目中隐藏的规律，抓住本质（究竟什么在变，什么不变：AB字符串均为aa和abab可以用字符串中出现多个相同字符判断，但是如果出现了abcaaaa...和cbaaaaa...就不行，还是没有抓住本质）\n",
    "* 程序中不要出现造轮子的片段，实现了现有能调包的函数，这样会暴露你使用相关函数的积累经验少\n",
    "* 如果有循环判断中，某条相似规则没有拦截住，请升级该判断条件"
   ]
  },
  {
   "cell_type": "code",
   "execution_count": null,
   "metadata": {},
   "outputs": [],
   "source": [
    "# 我的答案：\n",
    "class Solution:\n",
    "    def buddyStrings(self, A: str, B: str) -> bool:\n",
    "        \n",
    "        # 1.找出两个不同的值\n",
    "        list_a, list_b, list_tmp = [], [], []\n",
    "        for i in A:\n",
    "            list_a.append(ord(i))\n",
    "        for i in B:\n",
    "            list_b.append(ord(i))    \n",
    "        list_sub = list(map(lambda x:x[0]-x[1], zip(list_a, list_b)))\n",
    "        for i in list_sub:\n",
    "            if i!=0:\n",
    "                list_tmp.append(i)\n",
    "        num_list = list(map(lambda x:A.count(x), A))\n",
    "        \n",
    "        # 2.确定是否可以反转\n",
    "        if len(list_a)==2 and ''.join(reversed(A))==B:\n",
    "            print(\"a\")\n",
    "            return True\n",
    "        elif len(list_tmp)==2 and list_tmp[-1]==-list_tmp[0]:\n",
    "            print(\"b\")\n",
    "            return True\n",
    "        elif len(list_tmp)>2 or len(list_tmp)==2 and list_tmp[-1]==list_tmp[0]:\n",
    "            print(\"e\")\n",
    "            return False\n",
    "        elif True in list(map(lambda x:x>1, num_list)):\n",
    "            print(\"d\")\n",
    "            return True\n",
    "        else:\n",
    "            print(\"c\")\n",
    "            return False"
   ]
  },
  {
   "cell_type": "markdown",
   "metadata": {},
   "source": [
    "优秀答案：\n",
    "\n",
    "* 收获笔记："
   ]
  },
  {
   "cell_type": "code",
   "execution_count": null,
   "metadata": {},
   "outputs": [],
   "source": []
  },
  {
   "cell_type": "markdown",
   "metadata": {},
   "source": [
    "改进方案：\n",
    "\n",
    "* 改正之处："
   ]
  },
  {
   "cell_type": "code",
   "execution_count": null,
   "metadata": {},
   "outputs": [],
   "source": []
  }
 ],
 "metadata": {
  "kernelspec": {
   "display_name": "Python 3",
   "language": "python",
   "name": "python3"
  },
  "language_info": {
   "codemirror_mode": {
    "name": "ipython",
    "version": 3
   },
   "file_extension": ".py",
   "mimetype": "text/x-python",
   "name": "python",
   "nbconvert_exporter": "python",
   "pygments_lexer": "ipython3",
   "version": "3.6.4"
  },
  "toc": {
   "base_numbering": 1,
   "nav_menu": {},
   "number_sections": true,
   "sideBar": true,
   "skip_h1_title": false,
   "title_cell": "Table of Contents",
   "title_sidebar": "Contents",
   "toc_cell": false,
   "toc_position": {},
   "toc_section_display": true,
   "toc_window_display": true
  }
 },
 "nbformat": 4,
 "nbformat_minor": 2
}
